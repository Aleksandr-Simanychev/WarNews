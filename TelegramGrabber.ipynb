{
 "cells": [
  {
   "cell_type": "code",
   "execution_count": 1,
   "id": "4d5da8f6",
   "metadata": {},
   "outputs": [],
   "source": [
    "import nest_asyncio\n",
    "nest_asyncio.apply()"
   ]
  },
  {
   "cell_type": "code",
   "execution_count": 2,
   "id": "bc9b1c60",
   "metadata": {},
   "outputs": [],
   "source": [
    "import re"
   ]
  },
  {
   "cell_type": "code",
   "execution_count": 3,
   "id": "2e406327",
   "metadata": {},
   "outputs": [],
   "source": [
    "import pandas as pd\n",
    "TelegramDF = pd.read_csv('TelPool.csv', sep=';')"
   ]
  },
  {
   "cell_type": "code",
   "execution_count": 4,
   "id": "47bc8b91",
   "metadata": {},
   "outputs": [
    {
     "data": {
      "text/html": [
       "<div>\n",
       "<style scoped>\n",
       "    .dataframe tbody tr th:only-of-type {\n",
       "        vertical-align: middle;\n",
       "    }\n",
       "\n",
       "    .dataframe tbody tr th {\n",
       "        vertical-align: top;\n",
       "    }\n",
       "\n",
       "    .dataframe thead th {\n",
       "        text-align: right;\n",
       "    }\n",
       "</style>\n",
       "<table border=\"1\" class=\"dataframe\">\n",
       "  <thead>\n",
       "    <tr style=\"text-align: right;\">\n",
       "      <th></th>\n",
       "      <th>RU_NEWS</th>\n",
       "      <th>UA_NEWS</th>\n",
       "    </tr>\n",
       "  </thead>\n",
       "  <tbody>\n",
       "    <tr>\n",
       "      <th>0</th>\n",
       "      <td>@breakingmash'</td>\n",
       "      <td>@u_now'</td>\n",
       "    </tr>\n",
       "    <tr>\n",
       "      <th>1</th>\n",
       "      <td>'@varlamov_news'</td>\n",
       "      <td>'@ukr_novosti_voina'</td>\n",
       "    </tr>\n",
       "    <tr>\n",
       "      <th>2</th>\n",
       "      <td>'@rian_ru'</td>\n",
       "      <td>'@ukraina_novosti'</td>\n",
       "    </tr>\n",
       "    <tr>\n",
       "      <th>3</th>\n",
       "      <td>'@CBEJAK'</td>\n",
       "      <td>'@uniannet'</td>\n",
       "    </tr>\n",
       "    <tr>\n",
       "      <th>4</th>\n",
       "      <td>'@bbbreaking'</td>\n",
       "      <td>'@truexanewsua'</td>\n",
       "    </tr>\n",
       "    <tr>\n",
       "      <th>...</th>\n",
       "      <td>...</td>\n",
       "      <td>...</td>\n",
       "    </tr>\n",
       "    <tr>\n",
       "      <th>84</th>\n",
       "      <td>NaN</td>\n",
       "      <td>'@ebanutiy_kiev3'</td>\n",
       "    </tr>\n",
       "    <tr>\n",
       "      <th>85</th>\n",
       "      <td>NaN</td>\n",
       "      <td>'@buntariy'</td>\n",
       "    </tr>\n",
       "    <tr>\n",
       "      <th>86</th>\n",
       "      <td>NaN</td>\n",
       "      <td>'@dneproperativ'</td>\n",
       "    </tr>\n",
       "    <tr>\n",
       "      <th>87</th>\n",
       "      <td>NaN</td>\n",
       "      <td>'@place_kh'</td>\n",
       "    </tr>\n",
       "    <tr>\n",
       "      <th>88</th>\n",
       "      <td>NaN</td>\n",
       "      <td>@kharkov_news_24'</td>\n",
       "    </tr>\n",
       "  </tbody>\n",
       "</table>\n",
       "<p>89 rows × 2 columns</p>\n",
       "</div>"
      ],
      "text/plain": [
       "              RU_NEWS                UA_NEWS\n",
       "0      @breakingmash'                @u_now'\n",
       "1    '@varlamov_news'   '@ukr_novosti_voina'\n",
       "2          '@rian_ru'     '@ukraina_novosti'\n",
       "3           '@CBEJAK'            '@uniannet'\n",
       "4       '@bbbreaking'        '@truexanewsua'\n",
       "..                ...                    ...\n",
       "84                NaN      '@ebanutiy_kiev3'\n",
       "85                NaN            '@buntariy'\n",
       "86                NaN       '@dneproperativ'\n",
       "87                NaN            '@place_kh'\n",
       "88                NaN      @kharkov_news_24'\n",
       "\n",
       "[89 rows x 2 columns]"
      ]
     },
     "execution_count": 4,
     "metadata": {},
     "output_type": "execute_result"
    }
   ],
   "source": [
    "TelegramDF"
   ]
  },
  {
   "cell_type": "code",
   "execution_count": 5,
   "id": "0d687276",
   "metadata": {},
   "outputs": [
    {
     "data": {
      "text/plain": [
       "'mytusovka'"
      ]
     },
     "execution_count": 5,
     "metadata": {},
     "output_type": "execute_result"
    }
   ],
   "source": [
    "re.findall(r\"@.*(?=')\", str(TelegramDF.loc[83, 'RU_NEWS']))[0][1:]"
   ]
  },
  {
   "cell_type": "code",
   "execution_count": 6,
   "id": "e3fc8e5d",
   "metadata": {},
   "outputs": [
    {
     "name": "stderr",
     "output_type": "stream",
     "text": [
      "/var/folders/tm/wz5tvn7951s2f6hclbtzc9gw0000gn/T/ipykernel_1702/157503228.py:28: RuntimeWarning: coroutine 'AuthMethods._start' was never awaited\n",
      "  client.start()\n",
      "RuntimeWarning: Enable tracemalloc to get the object allocation traceback\n"
     ]
    }
   ],
   "source": [
    "import configparser\n",
    "import json\n",
    "\n",
    "from telethon.sync import TelegramClient\n",
    "from telethon import connection\n",
    "\n",
    "# для корректного переноса времени сообщений в json\n",
    "from datetime import date, datetime\n",
    "\n",
    "# классы для работы с каналами\n",
    "from telethon.tl.functions.channels import GetParticipantsRequest\n",
    "from telethon.tl.types import ChannelParticipantsSearch\n",
    "\n",
    "# класс для работы с сообщениями\n",
    "from telethon.tl.functions.messages import GetHistoryRequest\n",
    "\n",
    "# Считываем учетные данные\n",
    "config = configparser.ConfigParser()\n",
    "config.read(\"config.ini\")\n",
    "\n",
    "# Присваиваем значения внутренним переменным\n",
    "api_id   = config['Telegram']['api_id']\n",
    "api_hash = config['Telegram']['api_hash']\n",
    "username = config['Telegram']['username']\n",
    "\n",
    "client = TelegramClient(username, api_id, api_hash)\n",
    "\n",
    "client.start()\n",
    "\n",
    "async def dump_all_messages(channel, channel_name):\n",
    "\t\"\"\"Записывает json-файл с информацией о всех сообщениях канала/чата\"\"\"\n",
    "\toffset_msg = 0    # номер записи, с которой начинается считывание\n",
    "\tlimit_msg = 100   # максимальное число записей, передаваемых за один раз\n",
    "\n",
    "\tall_messages = []   # список всех сообщений\n",
    "\ttotal_messages = 0\n",
    "\ttotal_count_limit = 2000  # поменяйте это значение, если вам нужны не все сообщения\n",
    "\n",
    "\tclass DateTimeEncoder(json.JSONEncoder):\n",
    "\t\t'''Класс для сериализации записи дат в JSON'''\n",
    "\t\tdef default(self, o):\n",
    "\t\t\tif isinstance(o, datetime):\n",
    "\t\t\t\treturn o.isoformat()\n",
    "\t\t\tif isinstance(o, bytes):\n",
    "\t\t\t\treturn list(o)\n",
    "\t\t\treturn json.JSONEncoder.default(self, o)\n",
    "\n",
    "\twhile True:\n",
    "\t\thistory = await client(GetHistoryRequest(\n",
    "\t\t\tpeer=channel,\n",
    "\t\t\toffset_id=offset_msg,\n",
    "\t\t\toffset_date=None, add_offset=0,\n",
    "\t\t\tlimit=limit_msg, max_id=0, min_id=0,\n",
    "\t\t\thash=0))\n",
    "\t\tif not history.messages:\n",
    "\t\t\tbreak\n",
    "\t\tmessages = history.messages\n",
    "\t\tfor message in messages:\n",
    "\t\t\tall_messages.append(message.to_dict())\n",
    "\t\toffset_msg = messages[len(messages) - 1].id\n",
    "\t\ttotal_messages = len(all_messages)\n",
    "\t\tif total_count_limit != 0 and total_messages >= total_count_limit:\n",
    "\t\t\tbreak\n",
    "\n",
    "\twith open(channel_name+'.json', 'w', encoding='utf8') as outfile:\n",
    "\t\t json.dump(all_messages, outfile, ensure_ascii=False, cls=DateTimeEncoder)\n",
    "\n",
    "\n",
    "async def main(link, channel_name):\n",
    "\turl = link\n",
    "\tchannel = await client.get_entity(url)\n",
    "\tawait dump_all_messages(channel, channel_name)\n",
    "\n",
    "\n",
    "async with client:\n",
    "    for i in range(TelegramDF.UA_NEWS.size):\n",
    "        link = 'https://t.me/' + re.findall(r\"@.*(?=')\", str(TelegramDF.loc[i, 'UA_NEWS']))[0][1:]\n",
    "        channel_name = re.findall(r\"@.*(?=')\", str(TelegramDF.loc[i, 'UA_NEWS']))[0][1:]\n",
    "        try:\n",
    "            client.loop.run_until_complete(main(link, channel_name))\n",
    "        except:\n",
    "            pass\n",
    "    for i in range(84):\n",
    "        link = 'https://t.me/' + re.findall(r\"@.*(?=')\", str(TelegramDF.loc[i, 'RU_NEWS']))[0][1:]\n",
    "        channel_name = re.findall(r\"@.*(?=')\", str(TelegramDF.loc[i, 'RU_NEWS']))[0][1:]\n",
    "        try:\n",
    "            client.loop.run_until_complete(main(link, channel_name))\n",
    "        except:\n",
    "            pass"
   ]
  },
 "metadata": {
  "kernelspec": {
   "display_name": "Python 3 (ipykernel)",
   "language": "python",
   "name": "python3"
  },
  "language_info": {
   "codemirror_mode": {
    "name": "ipython",
    "version": 3
   },
   "file_extension": ".py",
   "mimetype": "text/x-python",
   "name": "python",
   "nbconvert_exporter": "python",
   "pygments_lexer": "ipython3",
   "version": "3.9.9"
  }
 },
 "nbformat": 4,
 "nbformat_minor": 5
}
