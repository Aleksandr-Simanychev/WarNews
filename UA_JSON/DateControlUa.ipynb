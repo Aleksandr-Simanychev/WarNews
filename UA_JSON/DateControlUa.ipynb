{
 "cells": [
  {
   "cell_type": "code",
   "execution_count": 1,
   "id": "562833c7",
   "metadata": {},
   "outputs": [],
   "source": [
    "import json\n",
    "from datetime import date\n",
    "from os import listdir\n",
    "from os.path import isfile, join\n",
    "onlyfiles = [f for f in listdir() if f.endswith('.json')]"
   ]
  },
  {
   "cell_type": "code",
   "execution_count": 2,
   "id": "0aa1e162",
   "metadata": {},
   "outputs": [],
   "source": [
    "for file in onlyfiles:\n",
    "    with open(file, \"r\") as read_file:\n",
    "        data = json.load(read_file)\n",
    "    new_data = [x for x in data if date.fromisoformat(x['date'][:10]) > date.fromisoformat('2022-02-20')]\n",
    "    with open(file, 'w') as data_file:\n",
    "        data = json.dump(new_data, data_file)"
   ]
  },
  {
   "cell_type": "code",
   "execution_count": null,
   "id": "ac928de2",
   "metadata": {},
   "outputs": [],
   "source": []
  }
 ],
 "metadata": {
  "kernelspec": {
   "display_name": "Python 3 (ipykernel)",
   "language": "python",
   "name": "python3"
  },
  "language_info": {
   "codemirror_mode": {
    "name": "ipython",
    "version": 3
   },
   "file_extension": ".py",
   "mimetype": "text/x-python",
   "name": "python",
   "nbconvert_exporter": "python",
   "pygments_lexer": "ipython3",
   "version": "3.9.9"
  }
 },
 "nbformat": 4,
 "nbformat_minor": 5
}
